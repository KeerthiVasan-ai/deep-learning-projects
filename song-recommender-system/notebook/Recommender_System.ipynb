{
  "cells": [
    {
      "cell_type": "code",
      "execution_count": 2,
      "metadata": {
        "id": "URUNQFSrxkl_"
      },
      "outputs": [],
      "source": [
        "import numpy as np\n",
        "import tensorflow as tf\n",
        "from tensorflow.keras.layers import Input,Embedding,Flatten,Dot,Dense,Dropout,Concatenate\n",
        "from tensorflow.keras.models import Model\n",
        "from tensorflow.keras.optimizers import Adam\n",
        "from sklearn.model_selection import train_test_split"
      ]
    },
    {
      "cell_type": "code",
      "execution_count": 3,
      "metadata": {
        "colab": {
          "base_uri": "https://localhost:8080/"
        },
        "id": "03_o7lXlyMUk",
        "outputId": "5c4ce5a5-b2d7-4a8e-c46b-549005d70b06"
      },
      "outputs": [
        {
          "data": {
            "text/plain": [
              "(500, 150)"
            ]
          },
          "execution_count": 3,
          "metadata": {},
          "output_type": "execute_result"
        }
      ],
      "source": [
        "num_users = 500\n",
        "num_items = 150\n",
        "ratings = np.random.randint(0,6,size=(num_users,num_items))\n",
        "ratings.shape"
      ]
    },
    {
      "cell_type": "code",
      "execution_count": 4,
      "metadata": {
        "colab": {
          "base_uri": "https://localhost:8080/"
        },
        "id": "KwnYXVd2yocE",
        "outputId": "56f65ee5-5b24-40c6-a406-f43e3eeb3b06"
      },
      "outputs": [
        {
          "name": "stdout",
          "output_type": "stream",
          "text": [
            "(400, 150)\n",
            "(100, 150)\n"
          ]
        }
      ],
      "source": [
        "train_ratings , test_ratings = train_test_split(ratings,test_size=0.2)\n",
        "print(train_ratings.shape)\n",
        "print(test_ratings.shape)"
      ]
    },
    {
      "cell_type": "code",
      "execution_count": 5,
      "metadata": {
        "id": "YJ6xrUB0y9Os"
      },
      "outputs": [],
      "source": [
        "embedding_size = 50\n",
        "user_input = Input(shape=(1,))\n",
        "item_input = Input(shape=(1,))"
      ]
    },
    {
      "cell_type": "code",
      "execution_count": 6,
      "metadata": {
        "id": "vaKGdMBCzQj1"
      },
      "outputs": [],
      "source": [
        "user_embedding = Embedding(input_dim=num_users,output_dim = embedding_size)(user_input)\n",
        "item_embedding = Embedding(input_dim=num_items,output_dim = embedding_size)(item_input)"
      ]
    },
    {
      "cell_type": "code",
      "execution_count": 7,
      "metadata": {
        "id": "c3GfkCkpzmfL"
      },
      "outputs": [],
      "source": [
        "user_flat = Flatten()(user_embedding)\n",
        "item_flat = Flatten()(item_embedding)"
      ]
    },
    {
      "cell_type": "code",
      "execution_count": 8,
      "metadata": {
        "id": "_R7TjBKUz4oh"
      },
      "outputs": [],
      "source": [
        "concat = Concatenate()([user_flat,item_flat])\n",
        "\n",
        "dense1 = Dense(128,activation='relu')(concat)\n",
        "dense2 = Dense(64,activation='relu')(dense1)\n"
      ]
    },
    {
      "cell_type": "code",
      "execution_count": 9,
      "metadata": {
        "id": "v1UATuEX0C02"
      },
      "outputs": [],
      "source": [
        "model = Model(\n",
        "    inputs = [user_input,item_input],\n",
        "    outputs = Dense(1,activation=\"relu\")(dense2)\n",
        ")"
      ]
    },
    {
      "cell_type": "code",
      "execution_count": 10,
      "metadata": {
        "colab": {
          "base_uri": "https://localhost:8080/"
        },
        "id": "gHYT95f80SNy",
        "outputId": "38092dd6-3edd-405c-ca7f-fb850728a495"
      },
      "outputs": [
        {
          "name": "stdout",
          "output_type": "stream",
          "text": [
            "Model: \"model\"\n",
            "__________________________________________________________________________________________________\n",
            " Layer (type)                Output Shape                 Param #   Connected to                  \n",
            "==================================================================================================\n",
            " input_1 (InputLayer)        [(None, 1)]                  0         []                            \n",
            "                                                                                                  \n",
            " input_2 (InputLayer)        [(None, 1)]                  0         []                            \n",
            "                                                                                                  \n",
            " embedding (Embedding)       (None, 1, 50)                25000     ['input_1[0][0]']             \n",
            "                                                                                                  \n",
            " embedding_1 (Embedding)     (None, 1, 50)                7500      ['input_2[0][0]']             \n",
            "                                                                                                  \n",
            " flatten (Flatten)           (None, 50)                   0         ['embedding[0][0]']           \n",
            "                                                                                                  \n",
            " flatten_1 (Flatten)         (None, 50)                   0         ['embedding_1[0][0]']         \n",
            "                                                                                                  \n",
            " concatenate (Concatenate)   (None, 100)                  0         ['flatten[0][0]',             \n",
            "                                                                     'flatten_1[0][0]']           \n",
            "                                                                                                  \n",
            " dense (Dense)               (None, 128)                  12928     ['concatenate[0][0]']         \n",
            "                                                                                                  \n",
            " dense_1 (Dense)             (None, 64)                   8256      ['dense[0][0]']               \n",
            "                                                                                                  \n",
            " dense_2 (Dense)             (None, 1)                    65        ['dense_1[0][0]']             \n",
            "                                                                                                  \n",
            "==================================================================================================\n",
            "Total params: 53749 (209.96 KB)\n",
            "Trainable params: 53749 (209.96 KB)\n",
            "Non-trainable params: 0 (0.00 Byte)\n",
            "__________________________________________________________________________________________________\n"
          ]
        }
      ],
      "source": [
        "model.summary()"
      ]
    },
    {
      "cell_type": "code",
      "execution_count": 11,
      "metadata": {
        "id": "1aVI4tuf0Y1k"
      },
      "outputs": [],
      "source": [
        "model.compile(\n",
        "  loss=\"binary_crossentropy\",\n",
        "  optimizer = Adam(learning_rate=0.001),\n",
        "  metrics = [\"accuracy\"]\n",
        ")"
      ]
    },
    {
      "cell_type": "code",
      "execution_count": 12,
      "metadata": {
        "colab": {
          "base_uri": "https://localhost:8080/"
        },
        "id": "YuIohhya0jHE",
        "outputId": "32879783-7bad-45c0-d23e-315f8b847057"
      },
      "outputs": [
        {
          "name": "stdout",
          "output_type": "stream",
          "text": [
            "Epoch 1/250\n",
            "10/10 [==============================] - 2s 59ms/step - loss: 8.1336 - accuracy: 0.1906 - val_loss: 3.5894 - val_accuracy: 0.1250\n",
            "Epoch 2/250\n",
            "10/10 [==============================] - 0s 14ms/step - loss: 2.3675 - accuracy: 0.1969 - val_loss: 0.9593 - val_accuracy: 0.1250\n",
            "Epoch 3/250\n",
            "10/10 [==============================] - 0s 16ms/step - loss: -1.2230 - accuracy: 0.1500 - val_loss: -11.0293 - val_accuracy: 0.1375\n",
            "Epoch 4/250\n",
            "10/10 [==============================] - 0s 12ms/step - loss: -17.6401 - accuracy: 0.1437 - val_loss: -23.4457 - val_accuracy: 0.1375\n",
            "Epoch 5/250\n",
            "10/10 [==============================] - 0s 9ms/step - loss: -22.2067 - accuracy: 0.1437 - val_loss: -23.4457 - val_accuracy: 0.1375\n",
            "Epoch 6/250\n",
            "10/10 [==============================] - 0s 10ms/step - loss: -22.2067 - accuracy: 0.1437 - val_loss: -23.4457 - val_accuracy: 0.1375\n",
            "Epoch 7/250\n",
            "10/10 [==============================] - 0s 8ms/step - loss: -22.2067 - accuracy: 0.1437 - val_loss: -23.4457 - val_accuracy: 0.1375\n",
            "Epoch 8/250\n",
            "10/10 [==============================] - 0s 9ms/step - loss: -22.2067 - accuracy: 0.1437 - val_loss: -23.4457 - val_accuracy: 0.1375\n",
            "Epoch 9/250\n",
            "10/10 [==============================] - 0s 7ms/step - loss: -22.2067 - accuracy: 0.1437 - val_loss: -23.4457 - val_accuracy: 0.1375\n",
            "Epoch 10/250\n",
            "10/10 [==============================] - 0s 7ms/step - loss: -22.2067 - accuracy: 0.1437 - val_loss: -23.4457 - val_accuracy: 0.1375\n",
            "Epoch 11/250\n",
            "10/10 [==============================] - 0s 10ms/step - loss: -22.2067 - accuracy: 0.1437 - val_loss: -23.4457 - val_accuracy: 0.1375\n",
            "Epoch 12/250\n",
            "10/10 [==============================] - 0s 9ms/step - loss: -22.2067 - accuracy: 0.1437 - val_loss: -23.4457 - val_accuracy: 0.1375\n",
            "Epoch 13/250\n",
            "10/10 [==============================] - 0s 8ms/step - loss: -22.2067 - accuracy: 0.1437 - val_loss: -23.4457 - val_accuracy: 0.1375\n",
            "Epoch 14/250\n",
            "10/10 [==============================] - 0s 11ms/step - loss: -22.2067 - accuracy: 0.1437 - val_loss: -23.4457 - val_accuracy: 0.1375\n",
            "Epoch 15/250\n",
            "10/10 [==============================] - 0s 8ms/step - loss: -22.2067 - accuracy: 0.1437 - val_loss: -23.4457 - val_accuracy: 0.1375\n",
            "Epoch 16/250\n",
            "10/10 [==============================] - 0s 9ms/step - loss: -22.2067 - accuracy: 0.1437 - val_loss: -23.4457 - val_accuracy: 0.1375\n",
            "Epoch 17/250\n",
            "10/10 [==============================] - 0s 7ms/step - loss: -22.2067 - accuracy: 0.1437 - val_loss: -23.4457 - val_accuracy: 0.1375\n",
            "Epoch 18/250\n",
            "10/10 [==============================] - 0s 10ms/step - loss: -22.2067 - accuracy: 0.1437 - val_loss: -23.4457 - val_accuracy: 0.1375\n",
            "Epoch 19/250\n",
            "10/10 [==============================] - 0s 8ms/step - loss: -22.2067 - accuracy: 0.1437 - val_loss: -23.4457 - val_accuracy: 0.1375\n",
            "Epoch 20/250\n",
            "10/10 [==============================] - 0s 8ms/step - loss: -22.2067 - accuracy: 0.1437 - val_loss: -23.4457 - val_accuracy: 0.1375\n",
            "Epoch 21/250\n",
            "10/10 [==============================] - 0s 8ms/step - loss: -22.2067 - accuracy: 0.1437 - val_loss: -23.4457 - val_accuracy: 0.1375\n",
            "Epoch 22/250\n",
            "10/10 [==============================] - 0s 10ms/step - loss: -22.2067 - accuracy: 0.1437 - val_loss: -23.4457 - val_accuracy: 0.1375\n",
            "Epoch 23/250\n",
            "10/10 [==============================] - 0s 9ms/step - loss: -22.2067 - accuracy: 0.1437 - val_loss: -23.4457 - val_accuracy: 0.1375\n",
            "Epoch 24/250\n",
            "10/10 [==============================] - 0s 8ms/step - loss: -22.2067 - accuracy: 0.1437 - val_loss: -23.4457 - val_accuracy: 0.1375\n",
            "Epoch 25/250\n",
            "10/10 [==============================] - 0s 9ms/step - loss: -22.2067 - accuracy: 0.1437 - val_loss: -23.4457 - val_accuracy: 0.1375\n",
            "Epoch 26/250\n",
            "10/10 [==============================] - 0s 9ms/step - loss: -22.2067 - accuracy: 0.1437 - val_loss: -23.4457 - val_accuracy: 0.1375\n",
            "Epoch 27/250\n",
            "10/10 [==============================] - 0s 9ms/step - loss: -22.2067 - accuracy: 0.1437 - val_loss: -23.4457 - val_accuracy: 0.1375\n",
            "Epoch 28/250\n",
            "10/10 [==============================] - 0s 9ms/step - loss: -22.2067 - accuracy: 0.1437 - val_loss: -23.4457 - val_accuracy: 0.1375\n",
            "Epoch 29/250\n",
            "10/10 [==============================] - 0s 10ms/step - loss: -22.2067 - accuracy: 0.1437 - val_loss: -23.4457 - val_accuracy: 0.1375\n",
            "Epoch 30/250\n",
            "10/10 [==============================] - 0s 7ms/step - loss: -22.2067 - accuracy: 0.1437 - val_loss: -23.4457 - val_accuracy: 0.1375\n",
            "Epoch 31/250\n",
            "10/10 [==============================] - 0s 8ms/step - loss: -22.2067 - accuracy: 0.1437 - val_loss: -23.4457 - val_accuracy: 0.1375\n",
            "Epoch 32/250\n",
            "10/10 [==============================] - 0s 9ms/step - loss: -22.2067 - accuracy: 0.1437 - val_loss: -23.4457 - val_accuracy: 0.1375\n",
            "Epoch 33/250\n",
            "10/10 [==============================] - 0s 10ms/step - loss: -22.2067 - accuracy: 0.1437 - val_loss: -23.4457 - val_accuracy: 0.1375\n",
            "Epoch 34/250\n",
            "10/10 [==============================] - 0s 9ms/step - loss: -22.2067 - accuracy: 0.1437 - val_loss: -23.4457 - val_accuracy: 0.1375\n",
            "Epoch 35/250\n",
            "10/10 [==============================] - 0s 9ms/step - loss: -22.2067 - accuracy: 0.1437 - val_loss: -23.4457 - val_accuracy: 0.1375\n",
            "Epoch 36/250\n",
            "10/10 [==============================] - 0s 10ms/step - loss: -22.2067 - accuracy: 0.1437 - val_loss: -23.4457 - val_accuracy: 0.1375\n",
            "Epoch 37/250\n",
            "10/10 [==============================] - 0s 9ms/step - loss: -22.2067 - accuracy: 0.1437 - val_loss: -23.4457 - val_accuracy: 0.1375\n",
            "Epoch 38/250\n",
            "10/10 [==============================] - 0s 9ms/step - loss: -22.2067 - accuracy: 0.1437 - val_loss: -23.4457 - val_accuracy: 0.1375\n",
            "Epoch 39/250\n",
            "10/10 [==============================] - 0s 8ms/step - loss: -22.2067 - accuracy: 0.1437 - val_loss: -23.4457 - val_accuracy: 0.1375\n",
            "Epoch 40/250\n",
            "10/10 [==============================] - 0s 9ms/step - loss: -22.2067 - accuracy: 0.1437 - val_loss: -23.4457 - val_accuracy: 0.1375\n",
            "Epoch 41/250\n",
            "10/10 [==============================] - 0s 7ms/step - loss: -22.2067 - accuracy: 0.1437 - val_loss: -23.4457 - val_accuracy: 0.1375\n",
            "Epoch 42/250\n",
            "10/10 [==============================] - 0s 10ms/step - loss: -22.2067 - accuracy: 0.1437 - val_loss: -23.4457 - val_accuracy: 0.1375\n",
            "Epoch 43/250\n",
            "10/10 [==============================] - 0s 7ms/step - loss: -22.2067 - accuracy: 0.1437 - val_loss: -23.4457 - val_accuracy: 0.1375\n",
            "Epoch 44/250\n",
            "10/10 [==============================] - 0s 11ms/step - loss: -22.2067 - accuracy: 0.1437 - val_loss: -23.4457 - val_accuracy: 0.1375\n",
            "Epoch 45/250\n",
            "10/10 [==============================] - 0s 9ms/step - loss: -22.2067 - accuracy: 0.1437 - val_loss: -23.4457 - val_accuracy: 0.1375\n",
            "Epoch 46/250\n",
            "10/10 [==============================] - 0s 8ms/step - loss: -22.2067 - accuracy: 0.1437 - val_loss: -23.4457 - val_accuracy: 0.1375\n",
            "Epoch 47/250\n",
            "10/10 [==============================] - 0s 9ms/step - loss: -22.2067 - accuracy: 0.1437 - val_loss: -23.4457 - val_accuracy: 0.1375\n",
            "Epoch 48/250\n",
            "10/10 [==============================] - 0s 8ms/step - loss: -22.2067 - accuracy: 0.1437 - val_loss: -23.4457 - val_accuracy: 0.1375\n",
            "Epoch 49/250\n",
            "10/10 [==============================] - 0s 10ms/step - loss: -22.2067 - accuracy: 0.1437 - val_loss: -23.4457 - val_accuracy: 0.1375\n",
            "Epoch 50/250\n",
            "10/10 [==============================] - 0s 8ms/step - loss: -22.2067 - accuracy: 0.1437 - val_loss: -23.4457 - val_accuracy: 0.1375\n",
            "Epoch 51/250\n",
            "10/10 [==============================] - 0s 9ms/step - loss: -22.2067 - accuracy: 0.1437 - val_loss: -23.4457 - val_accuracy: 0.1375\n",
            "Epoch 52/250\n",
            "10/10 [==============================] - 0s 8ms/step - loss: -22.2067 - accuracy: 0.1437 - val_loss: -23.4457 - val_accuracy: 0.1375\n",
            "Epoch 53/250\n",
            "10/10 [==============================] - 0s 8ms/step - loss: -22.2067 - accuracy: 0.1437 - val_loss: -23.4457 - val_accuracy: 0.1375\n",
            "Epoch 54/250\n",
            "10/10 [==============================] - 0s 10ms/step - loss: -22.2067 - accuracy: 0.1437 - val_loss: -23.4457 - val_accuracy: 0.1375\n",
            "Epoch 55/250\n",
            "10/10 [==============================] - 0s 9ms/step - loss: -22.2067 - accuracy: 0.1437 - val_loss: -23.4457 - val_accuracy: 0.1375\n",
            "Epoch 56/250\n",
            "10/10 [==============================] - 0s 8ms/step - loss: -22.2067 - accuracy: 0.1437 - val_loss: -23.4457 - val_accuracy: 0.1375\n",
            "Epoch 57/250\n",
            "10/10 [==============================] - 0s 8ms/step - loss: -22.2067 - accuracy: 0.1437 - val_loss: -23.4457 - val_accuracy: 0.1375\n",
            "Epoch 58/250\n",
            "10/10 [==============================] - 0s 11ms/step - loss: -22.2067 - accuracy: 0.1437 - val_loss: -23.4457 - val_accuracy: 0.1375\n",
            "Epoch 59/250\n",
            "10/10 [==============================] - 0s 9ms/step - loss: -22.2067 - accuracy: 0.1437 - val_loss: -23.4457 - val_accuracy: 0.1375\n",
            "Epoch 60/250\n",
            "10/10 [==============================] - 0s 9ms/step - loss: -22.2067 - accuracy: 0.1437 - val_loss: -23.4457 - val_accuracy: 0.1375\n",
            "Epoch 61/250\n",
            "10/10 [==============================] - 0s 10ms/step - loss: -22.2067 - accuracy: 0.1437 - val_loss: -23.4457 - val_accuracy: 0.1375\n",
            "Epoch 62/250\n",
            "10/10 [==============================] - 0s 7ms/step - loss: -22.2067 - accuracy: 0.1437 - val_loss: -23.4457 - val_accuracy: 0.1375\n",
            "Epoch 63/250\n",
            "10/10 [==============================] - 0s 7ms/step - loss: -22.2067 - accuracy: 0.1437 - val_loss: -23.4457 - val_accuracy: 0.1375\n",
            "Epoch 64/250\n",
            "10/10 [==============================] - 0s 9ms/step - loss: -22.2067 - accuracy: 0.1437 - val_loss: -23.4457 - val_accuracy: 0.1375\n",
            "Epoch 65/250\n",
            "10/10 [==============================] - 0s 7ms/step - loss: -22.2067 - accuracy: 0.1437 - val_loss: -23.4457 - val_accuracy: 0.1375\n",
            "Epoch 66/250\n",
            "10/10 [==============================] - 0s 8ms/step - loss: -22.2067 - accuracy: 0.1437 - val_loss: -23.4457 - val_accuracy: 0.1375\n",
            "Epoch 67/250\n",
            "10/10 [==============================] - 0s 9ms/step - loss: -22.2067 - accuracy: 0.1437 - val_loss: -23.4457 - val_accuracy: 0.1375\n",
            "Epoch 68/250\n",
            "10/10 [==============================] - 0s 9ms/step - loss: -22.2067 - accuracy: 0.1437 - val_loss: -23.4457 - val_accuracy: 0.1375\n",
            "Epoch 69/250\n",
            "10/10 [==============================] - 0s 10ms/step - loss: -22.2067 - accuracy: 0.1437 - val_loss: -23.4457 - val_accuracy: 0.1375\n",
            "Epoch 70/250\n",
            "10/10 [==============================] - 0s 7ms/step - loss: -22.2067 - accuracy: 0.1437 - val_loss: -23.4457 - val_accuracy: 0.1375\n",
            "Epoch 71/250\n",
            "10/10 [==============================] - 0s 9ms/step - loss: -22.2067 - accuracy: 0.1437 - val_loss: -23.4457 - val_accuracy: 0.1375\n",
            "Epoch 72/250\n",
            "10/10 [==============================] - 0s 7ms/step - loss: -22.2067 - accuracy: 0.1437 - val_loss: -23.4457 - val_accuracy: 0.1375\n",
            "Epoch 73/250\n",
            "10/10 [==============================] - 0s 6ms/step - loss: -22.2067 - accuracy: 0.1437 - val_loss: -23.4457 - val_accuracy: 0.1375\n",
            "Epoch 74/250\n",
            "10/10 [==============================] - 0s 8ms/step - loss: -22.2067 - accuracy: 0.1437 - val_loss: -23.4457 - val_accuracy: 0.1375\n",
            "Epoch 75/250\n",
            "10/10 [==============================] - 0s 8ms/step - loss: -22.2067 - accuracy: 0.1437 - val_loss: -23.4457 - val_accuracy: 0.1375\n",
            "Epoch 76/250\n",
            "10/10 [==============================] - 0s 7ms/step - loss: -22.2067 - accuracy: 0.1437 - val_loss: -23.4457 - val_accuracy: 0.1375\n",
            "Epoch 77/250\n",
            "10/10 [==============================] - 0s 7ms/step - loss: -22.2067 - accuracy: 0.1437 - val_loss: -23.4457 - val_accuracy: 0.1375\n",
            "Epoch 78/250\n",
            "10/10 [==============================] - 0s 7ms/step - loss: -22.2067 - accuracy: 0.1437 - val_loss: -23.4457 - val_accuracy: 0.1375\n",
            "Epoch 79/250\n",
            "10/10 [==============================] - 0s 9ms/step - loss: -22.2067 - accuracy: 0.1437 - val_loss: -23.4457 - val_accuracy: 0.1375\n",
            "Epoch 80/250\n",
            "10/10 [==============================] - 0s 9ms/step - loss: -22.2067 - accuracy: 0.1437 - val_loss: -23.4457 - val_accuracy: 0.1375\n",
            "Epoch 81/250\n",
            "10/10 [==============================] - 0s 19ms/step - loss: -22.2067 - accuracy: 0.1437 - val_loss: -23.4457 - val_accuracy: 0.1375\n",
            "Epoch 82/250\n",
            "10/10 [==============================] - 0s 13ms/step - loss: -22.2067 - accuracy: 0.1437 - val_loss: -23.4457 - val_accuracy: 0.1375\n",
            "Epoch 83/250\n",
            "10/10 [==============================] - 0s 8ms/step - loss: -22.2067 - accuracy: 0.1437 - val_loss: -23.4457 - val_accuracy: 0.1375\n",
            "Epoch 84/250\n",
            "10/10 [==============================] - 0s 6ms/step - loss: -22.2067 - accuracy: 0.1437 - val_loss: -23.4457 - val_accuracy: 0.1375\n",
            "Epoch 85/250\n",
            "10/10 [==============================] - 0s 8ms/step - loss: -22.2067 - accuracy: 0.1437 - val_loss: -23.4457 - val_accuracy: 0.1375\n",
            "Epoch 86/250\n",
            "10/10 [==============================] - 0s 6ms/step - loss: -22.2067 - accuracy: 0.1437 - val_loss: -23.4457 - val_accuracy: 0.1375\n",
            "Epoch 87/250\n",
            "10/10 [==============================] - 0s 8ms/step - loss: -22.2067 - accuracy: 0.1437 - val_loss: -23.4457 - val_accuracy: 0.1375\n",
            "Epoch 88/250\n",
            "10/10 [==============================] - 0s 7ms/step - loss: -22.2067 - accuracy: 0.1437 - val_loss: -23.4457 - val_accuracy: 0.1375\n",
            "Epoch 89/250\n",
            "10/10 [==============================] - 0s 9ms/step - loss: -22.2067 - accuracy: 0.1437 - val_loss: -23.4457 - val_accuracy: 0.1375\n",
            "Epoch 90/250\n",
            "10/10 [==============================] - 0s 8ms/step - loss: -22.2067 - accuracy: 0.1437 - val_loss: -23.4457 - val_accuracy: 0.1375\n",
            "Epoch 91/250\n",
            "10/10 [==============================] - 0s 7ms/step - loss: -22.2067 - accuracy: 0.1437 - val_loss: -23.4457 - val_accuracy: 0.1375\n",
            "Epoch 92/250\n",
            "10/10 [==============================] - 0s 8ms/step - loss: -22.2067 - accuracy: 0.1437 - val_loss: -23.4457 - val_accuracy: 0.1375\n",
            "Epoch 93/250\n",
            "10/10 [==============================] - 0s 9ms/step - loss: -22.2067 - accuracy: 0.1437 - val_loss: -23.4457 - val_accuracy: 0.1375\n",
            "Epoch 94/250\n",
            "10/10 [==============================] - 0s 7ms/step - loss: -22.2067 - accuracy: 0.1437 - val_loss: -23.4457 - val_accuracy: 0.1375\n",
            "Epoch 95/250\n",
            "10/10 [==============================] - 0s 9ms/step - loss: -22.2067 - accuracy: 0.1437 - val_loss: -23.4457 - val_accuracy: 0.1375\n",
            "Epoch 96/250\n",
            "10/10 [==============================] - 0s 9ms/step - loss: -22.2067 - accuracy: 0.1437 - val_loss: -23.4457 - val_accuracy: 0.1375\n",
            "Epoch 97/250\n",
            "10/10 [==============================] - 0s 8ms/step - loss: -22.2067 - accuracy: 0.1437 - val_loss: -23.4457 - val_accuracy: 0.1375\n",
            "Epoch 98/250\n",
            "10/10 [==============================] - 0s 8ms/step - loss: -22.2067 - accuracy: 0.1437 - val_loss: -23.4457 - val_accuracy: 0.1375\n",
            "Epoch 99/250\n",
            "10/10 [==============================] - 0s 7ms/step - loss: -22.2067 - accuracy: 0.1437 - val_loss: -23.4457 - val_accuracy: 0.1375\n",
            "Epoch 100/250\n",
            "10/10 [==============================] - 0s 7ms/step - loss: -22.2067 - accuracy: 0.1437 - val_loss: -23.4457 - val_accuracy: 0.1375\n",
            "Epoch 101/250\n",
            "10/10 [==============================] - 0s 8ms/step - loss: -22.2067 - accuracy: 0.1437 - val_loss: -23.4457 - val_accuracy: 0.1375\n",
            "Epoch 102/250\n",
            "10/10 [==============================] - 0s 7ms/step - loss: -22.2067 - accuracy: 0.1437 - val_loss: -23.4457 - val_accuracy: 0.1375\n",
            "Epoch 103/250\n",
            "10/10 [==============================] - 0s 8ms/step - loss: -22.2067 - accuracy: 0.1437 - val_loss: -23.4457 - val_accuracy: 0.1375\n",
            "Epoch 104/250\n",
            "10/10 [==============================] - 0s 8ms/step - loss: -22.2067 - accuracy: 0.1437 - val_loss: -23.4457 - val_accuracy: 0.1375\n",
            "Epoch 105/250\n",
            "10/10 [==============================] - 0s 8ms/step - loss: -22.2067 - accuracy: 0.1437 - val_loss: -23.4457 - val_accuracy: 0.1375\n",
            "Epoch 106/250\n",
            "10/10 [==============================] - 0s 7ms/step - loss: -22.2067 - accuracy: 0.1437 - val_loss: -23.4457 - val_accuracy: 0.1375\n",
            "Epoch 107/250\n",
            "10/10 [==============================] - 0s 6ms/step - loss: -22.2067 - accuracy: 0.1437 - val_loss: -23.4457 - val_accuracy: 0.1375\n",
            "Epoch 108/250\n",
            "10/10 [==============================] - 0s 6ms/step - loss: -22.2067 - accuracy: 0.1437 - val_loss: -23.4457 - val_accuracy: 0.1375\n",
            "Epoch 109/250\n",
            "10/10 [==============================] - 0s 7ms/step - loss: -22.2067 - accuracy: 0.1437 - val_loss: -23.4457 - val_accuracy: 0.1375\n",
            "Epoch 110/250\n",
            "10/10 [==============================] - 0s 7ms/step - loss: -22.2067 - accuracy: 0.1437 - val_loss: -23.4457 - val_accuracy: 0.1375\n",
            "Epoch 111/250\n",
            "10/10 [==============================] - 0s 9ms/step - loss: -22.2067 - accuracy: 0.1437 - val_loss: -23.4457 - val_accuracy: 0.1375\n",
            "Epoch 112/250\n",
            "10/10 [==============================] - 0s 7ms/step - loss: -22.2067 - accuracy: 0.1437 - val_loss: -23.4457 - val_accuracy: 0.1375\n",
            "Epoch 113/250\n",
            "10/10 [==============================] - 0s 8ms/step - loss: -22.2067 - accuracy: 0.1437 - val_loss: -23.4457 - val_accuracy: 0.1375\n",
            "Epoch 114/250\n",
            "10/10 [==============================] - 0s 8ms/step - loss: -22.2067 - accuracy: 0.1437 - val_loss: -23.4457 - val_accuracy: 0.1375\n",
            "Epoch 115/250\n",
            "10/10 [==============================] - 0s 11ms/step - loss: -22.2067 - accuracy: 0.1437 - val_loss: -23.4457 - val_accuracy: 0.1375\n",
            "Epoch 116/250\n",
            "10/10 [==============================] - 0s 12ms/step - loss: -22.2067 - accuracy: 0.1437 - val_loss: -23.4457 - val_accuracy: 0.1375\n",
            "Epoch 117/250\n",
            "10/10 [==============================] - 0s 12ms/step - loss: -22.2067 - accuracy: 0.1437 - val_loss: -23.4457 - val_accuracy: 0.1375\n",
            "Epoch 118/250\n",
            "10/10 [==============================] - 0s 12ms/step - loss: -22.2067 - accuracy: 0.1437 - val_loss: -23.4457 - val_accuracy: 0.1375\n",
            "Epoch 119/250\n",
            "10/10 [==============================] - 0s 11ms/step - loss: -22.2067 - accuracy: 0.1437 - val_loss: -23.4457 - val_accuracy: 0.1375\n",
            "Epoch 120/250\n",
            "10/10 [==============================] - 0s 10ms/step - loss: -22.2067 - accuracy: 0.1437 - val_loss: -23.4457 - val_accuracy: 0.1375\n",
            "Epoch 121/250\n",
            "10/10 [==============================] - 0s 13ms/step - loss: -22.2067 - accuracy: 0.1437 - val_loss: -23.4457 - val_accuracy: 0.1375\n",
            "Epoch 122/250\n",
            "10/10 [==============================] - 0s 11ms/step - loss: -22.2067 - accuracy: 0.1437 - val_loss: -23.4457 - val_accuracy: 0.1375\n",
            "Epoch 123/250\n",
            "10/10 [==============================] - 0s 12ms/step - loss: -22.2067 - accuracy: 0.1437 - val_loss: -23.4457 - val_accuracy: 0.1375\n",
            "Epoch 124/250\n",
            "10/10 [==============================] - 0s 10ms/step - loss: -22.2067 - accuracy: 0.1437 - val_loss: -23.4457 - val_accuracy: 0.1375\n",
            "Epoch 125/250\n",
            "10/10 [==============================] - 0s 12ms/step - loss: -22.2067 - accuracy: 0.1437 - val_loss: -23.4457 - val_accuracy: 0.1375\n",
            "Epoch 126/250\n",
            "10/10 [==============================] - 0s 14ms/step - loss: -22.2067 - accuracy: 0.1437 - val_loss: -23.4457 - val_accuracy: 0.1375\n",
            "Epoch 127/250\n",
            "10/10 [==============================] - 0s 12ms/step - loss: -22.2067 - accuracy: 0.1437 - val_loss: -23.4457 - val_accuracy: 0.1375\n",
            "Epoch 128/250\n",
            "10/10 [==============================] - 0s 14ms/step - loss: -22.2067 - accuracy: 0.1437 - val_loss: -23.4457 - val_accuracy: 0.1375\n",
            "Epoch 129/250\n",
            "10/10 [==============================] - 0s 12ms/step - loss: -22.2067 - accuracy: 0.1437 - val_loss: -23.4457 - val_accuracy: 0.1375\n",
            "Epoch 130/250\n",
            "10/10 [==============================] - 0s 11ms/step - loss: -22.2067 - accuracy: 0.1437 - val_loss: -23.4457 - val_accuracy: 0.1375\n",
            "Epoch 131/250\n",
            "10/10 [==============================] - 0s 13ms/step - loss: -22.2067 - accuracy: 0.1437 - val_loss: -23.4457 - val_accuracy: 0.1375\n",
            "Epoch 132/250\n",
            "10/10 [==============================] - 0s 12ms/step - loss: -22.2067 - accuracy: 0.1437 - val_loss: -23.4457 - val_accuracy: 0.1375\n",
            "Epoch 133/250\n",
            "10/10 [==============================] - 0s 12ms/step - loss: -22.2067 - accuracy: 0.1437 - val_loss: -23.4457 - val_accuracy: 0.1375\n",
            "Epoch 134/250\n",
            "10/10 [==============================] - 0s 13ms/step - loss: -22.2067 - accuracy: 0.1437 - val_loss: -23.4457 - val_accuracy: 0.1375\n",
            "Epoch 135/250\n",
            "10/10 [==============================] - 0s 12ms/step - loss: -22.2067 - accuracy: 0.1437 - val_loss: -23.4457 - val_accuracy: 0.1375\n",
            "Epoch 136/250\n",
            "10/10 [==============================] - 0s 13ms/step - loss: -22.2067 - accuracy: 0.1437 - val_loss: -23.4457 - val_accuracy: 0.1375\n",
            "Epoch 137/250\n",
            "10/10 [==============================] - 0s 11ms/step - loss: -22.2067 - accuracy: 0.1437 - val_loss: -23.4457 - val_accuracy: 0.1375\n",
            "Epoch 138/250\n",
            "10/10 [==============================] - 0s 9ms/step - loss: -22.2067 - accuracy: 0.1437 - val_loss: -23.4457 - val_accuracy: 0.1375\n",
            "Epoch 139/250\n",
            "10/10 [==============================] - 0s 8ms/step - loss: -22.2067 - accuracy: 0.1437 - val_loss: -23.4457 - val_accuracy: 0.1375\n",
            "Epoch 140/250\n",
            "10/10 [==============================] - 0s 8ms/step - loss: -22.2067 - accuracy: 0.1437 - val_loss: -23.4457 - val_accuracy: 0.1375\n",
            "Epoch 141/250\n",
            "10/10 [==============================] - 0s 9ms/step - loss: -22.2067 - accuracy: 0.1437 - val_loss: -23.4457 - val_accuracy: 0.1375\n",
            "Epoch 142/250\n",
            "10/10 [==============================] - 0s 9ms/step - loss: -22.2067 - accuracy: 0.1437 - val_loss: -23.4457 - val_accuracy: 0.1375\n",
            "Epoch 143/250\n",
            "10/10 [==============================] - 0s 9ms/step - loss: -22.2067 - accuracy: 0.1437 - val_loss: -23.4457 - val_accuracy: 0.1375\n",
            "Epoch 144/250\n",
            "10/10 [==============================] - 0s 11ms/step - loss: -22.2067 - accuracy: 0.1437 - val_loss: -23.4457 - val_accuracy: 0.1375\n",
            "Epoch 145/250\n",
            "10/10 [==============================] - 0s 8ms/step - loss: -22.2067 - accuracy: 0.1437 - val_loss: -23.4457 - val_accuracy: 0.1375\n",
            "Epoch 146/250\n",
            "10/10 [==============================] - 0s 8ms/step - loss: -22.2067 - accuracy: 0.1437 - val_loss: -23.4457 - val_accuracy: 0.1375\n",
            "Epoch 147/250\n",
            "10/10 [==============================] - 0s 9ms/step - loss: -22.2067 - accuracy: 0.1437 - val_loss: -23.4457 - val_accuracy: 0.1375\n",
            "Epoch 148/250\n",
            "10/10 [==============================] - 0s 10ms/step - loss: -22.2067 - accuracy: 0.1437 - val_loss: -23.4457 - val_accuracy: 0.1375\n",
            "Epoch 149/250\n",
            "10/10 [==============================] - 0s 8ms/step - loss: -22.2067 - accuracy: 0.1437 - val_loss: -23.4457 - val_accuracy: 0.1375\n",
            "Epoch 150/250\n",
            "10/10 [==============================] - 0s 8ms/step - loss: -22.2067 - accuracy: 0.1437 - val_loss: -23.4457 - val_accuracy: 0.1375\n",
            "Epoch 151/250\n",
            "10/10 [==============================] - 0s 8ms/step - loss: -22.2067 - accuracy: 0.1437 - val_loss: -23.4457 - val_accuracy: 0.1375\n",
            "Epoch 152/250\n",
            "10/10 [==============================] - 0s 7ms/step - loss: -22.2067 - accuracy: 0.1437 - val_loss: -23.4457 - val_accuracy: 0.1375\n",
            "Epoch 153/250\n",
            "10/10 [==============================] - 0s 10ms/step - loss: -22.2067 - accuracy: 0.1437 - val_loss: -23.4457 - val_accuracy: 0.1375\n",
            "Epoch 154/250\n",
            "10/10 [==============================] - 0s 8ms/step - loss: -22.2067 - accuracy: 0.1437 - val_loss: -23.4457 - val_accuracy: 0.1375\n",
            "Epoch 155/250\n",
            "10/10 [==============================] - 0s 11ms/step - loss: -22.2067 - accuracy: 0.1437 - val_loss: -23.4457 - val_accuracy: 0.1375\n",
            "Epoch 156/250\n",
            "10/10 [==============================] - 0s 7ms/step - loss: -22.2067 - accuracy: 0.1437 - val_loss: -23.4457 - val_accuracy: 0.1375\n",
            "Epoch 157/250\n",
            "10/10 [==============================] - 0s 8ms/step - loss: -22.2067 - accuracy: 0.1437 - val_loss: -23.4457 - val_accuracy: 0.1375\n",
            "Epoch 158/250\n",
            "10/10 [==============================] - 0s 8ms/step - loss: -22.2067 - accuracy: 0.1437 - val_loss: -23.4457 - val_accuracy: 0.1375\n",
            "Epoch 159/250\n",
            "10/10 [==============================] - 0s 10ms/step - loss: -22.2067 - accuracy: 0.1437 - val_loss: -23.4457 - val_accuracy: 0.1375\n",
            "Epoch 160/250\n",
            "10/10 [==============================] - 0s 7ms/step - loss: -22.2067 - accuracy: 0.1437 - val_loss: -23.4457 - val_accuracy: 0.1375\n",
            "Epoch 161/250\n",
            "10/10 [==============================] - 0s 8ms/step - loss: -22.2067 - accuracy: 0.1437 - val_loss: -23.4457 - val_accuracy: 0.1375\n",
            "Epoch 162/250\n",
            "10/10 [==============================] - 0s 9ms/step - loss: -22.2067 - accuracy: 0.1437 - val_loss: -23.4457 - val_accuracy: 0.1375\n",
            "Epoch 163/250\n",
            "10/10 [==============================] - 0s 7ms/step - loss: -22.2067 - accuracy: 0.1437 - val_loss: -23.4457 - val_accuracy: 0.1375\n",
            "Epoch 164/250\n",
            "10/10 [==============================] - 0s 9ms/step - loss: -22.2067 - accuracy: 0.1437 - val_loss: -23.4457 - val_accuracy: 0.1375\n",
            "Epoch 165/250\n",
            "10/10 [==============================] - 0s 10ms/step - loss: -22.2067 - accuracy: 0.1437 - val_loss: -23.4457 - val_accuracy: 0.1375\n",
            "Epoch 166/250\n",
            "10/10 [==============================] - 0s 10ms/step - loss: -22.2067 - accuracy: 0.1437 - val_loss: -23.4457 - val_accuracy: 0.1375\n",
            "Epoch 167/250\n",
            "10/10 [==============================] - 0s 7ms/step - loss: -22.2067 - accuracy: 0.1437 - val_loss: -23.4457 - val_accuracy: 0.1375\n",
            "Epoch 168/250\n",
            "10/10 [==============================] - 0s 10ms/step - loss: -22.2067 - accuracy: 0.1437 - val_loss: -23.4457 - val_accuracy: 0.1375\n",
            "Epoch 169/250\n",
            "10/10 [==============================] - 0s 10ms/step - loss: -22.2067 - accuracy: 0.1437 - val_loss: -23.4457 - val_accuracy: 0.1375\n",
            "Epoch 170/250\n",
            "10/10 [==============================] - 0s 8ms/step - loss: -22.2067 - accuracy: 0.1437 - val_loss: -23.4457 - val_accuracy: 0.1375\n",
            "Epoch 171/250\n",
            "10/10 [==============================] - 0s 9ms/step - loss: -22.2067 - accuracy: 0.1437 - val_loss: -23.4457 - val_accuracy: 0.1375\n",
            "Epoch 172/250\n",
            "10/10 [==============================] - 0s 31ms/step - loss: -22.2067 - accuracy: 0.1437 - val_loss: -23.4457 - val_accuracy: 0.1375\n",
            "Epoch 173/250\n",
            "10/10 [==============================] - 0s 10ms/step - loss: -22.2067 - accuracy: 0.1437 - val_loss: -23.4457 - val_accuracy: 0.1375\n",
            "Epoch 174/250\n",
            "10/10 [==============================] - 0s 7ms/step - loss: -22.2067 - accuracy: 0.1437 - val_loss: -23.4457 - val_accuracy: 0.1375\n",
            "Epoch 175/250\n",
            "10/10 [==============================] - 0s 8ms/step - loss: -22.2067 - accuracy: 0.1437 - val_loss: -23.4457 - val_accuracy: 0.1375\n",
            "Epoch 176/250\n",
            "10/10 [==============================] - 0s 10ms/step - loss: -22.2067 - accuracy: 0.1437 - val_loss: -23.4457 - val_accuracy: 0.1375\n",
            "Epoch 177/250\n",
            "10/10 [==============================] - 0s 8ms/step - loss: -22.2067 - accuracy: 0.1437 - val_loss: -23.4457 - val_accuracy: 0.1375\n",
            "Epoch 178/250\n",
            "10/10 [==============================] - 0s 8ms/step - loss: -22.2067 - accuracy: 0.1437 - val_loss: -23.4457 - val_accuracy: 0.1375\n",
            "Epoch 179/250\n",
            "10/10 [==============================] - 0s 7ms/step - loss: -22.2067 - accuracy: 0.1437 - val_loss: -23.4457 - val_accuracy: 0.1375\n",
            "Epoch 180/250\n",
            "10/10 [==============================] - 0s 10ms/step - loss: -22.2067 - accuracy: 0.1437 - val_loss: -23.4457 - val_accuracy: 0.1375\n",
            "Epoch 181/250\n",
            "10/10 [==============================] - 0s 9ms/step - loss: -22.2067 - accuracy: 0.1437 - val_loss: -23.4457 - val_accuracy: 0.1375\n",
            "Epoch 182/250\n",
            "10/10 [==============================] - 0s 7ms/step - loss: -22.2067 - accuracy: 0.1437 - val_loss: -23.4457 - val_accuracy: 0.1375\n",
            "Epoch 183/250\n",
            "10/10 [==============================] - 0s 9ms/step - loss: -22.2067 - accuracy: 0.1437 - val_loss: -23.4457 - val_accuracy: 0.1375\n",
            "Epoch 184/250\n",
            "10/10 [==============================] - 0s 9ms/step - loss: -22.2067 - accuracy: 0.1437 - val_loss: -23.4457 - val_accuracy: 0.1375\n",
            "Epoch 185/250\n",
            "10/10 [==============================] - 0s 8ms/step - loss: -22.2067 - accuracy: 0.1437 - val_loss: -23.4457 - val_accuracy: 0.1375\n",
            "Epoch 186/250\n",
            "10/10 [==============================] - 0s 9ms/step - loss: -22.2067 - accuracy: 0.1437 - val_loss: -23.4457 - val_accuracy: 0.1375\n",
            "Epoch 187/250\n",
            "10/10 [==============================] - 0s 10ms/step - loss: -22.2067 - accuracy: 0.1437 - val_loss: -23.4457 - val_accuracy: 0.1375\n",
            "Epoch 188/250\n",
            "10/10 [==============================] - 0s 9ms/step - loss: -22.2067 - accuracy: 0.1437 - val_loss: -23.4457 - val_accuracy: 0.1375\n",
            "Epoch 189/250\n",
            "10/10 [==============================] - 0s 9ms/step - loss: -22.2067 - accuracy: 0.1437 - val_loss: -23.4457 - val_accuracy: 0.1375\n",
            "Epoch 190/250\n",
            "10/10 [==============================] - 0s 10ms/step - loss: -22.2067 - accuracy: 0.1437 - val_loss: -23.4457 - val_accuracy: 0.1375\n",
            "Epoch 191/250\n",
            "10/10 [==============================] - 0s 7ms/step - loss: -22.2067 - accuracy: 0.1437 - val_loss: -23.4457 - val_accuracy: 0.1375\n",
            "Epoch 192/250\n",
            "10/10 [==============================] - 0s 7ms/step - loss: -22.2067 - accuracy: 0.1437 - val_loss: -23.4457 - val_accuracy: 0.1375\n",
            "Epoch 193/250\n",
            "10/10 [==============================] - 0s 8ms/step - loss: -22.2067 - accuracy: 0.1437 - val_loss: -23.4457 - val_accuracy: 0.1375\n",
            "Epoch 194/250\n",
            "10/10 [==============================] - 0s 7ms/step - loss: -22.2067 - accuracy: 0.1437 - val_loss: -23.4457 - val_accuracy: 0.1375\n",
            "Epoch 195/250\n",
            "10/10 [==============================] - 0s 9ms/step - loss: -22.2067 - accuracy: 0.1437 - val_loss: -23.4457 - val_accuracy: 0.1375\n",
            "Epoch 196/250\n",
            "10/10 [==============================] - 0s 8ms/step - loss: -22.2067 - accuracy: 0.1437 - val_loss: -23.4457 - val_accuracy: 0.1375\n",
            "Epoch 197/250\n",
            "10/10 [==============================] - 0s 7ms/step - loss: -22.2067 - accuracy: 0.1437 - val_loss: -23.4457 - val_accuracy: 0.1375\n",
            "Epoch 198/250\n",
            "10/10 [==============================] - 0s 10ms/step - loss: -22.2067 - accuracy: 0.1437 - val_loss: -23.4457 - val_accuracy: 0.1375\n",
            "Epoch 199/250\n",
            "10/10 [==============================] - 0s 9ms/step - loss: -22.2067 - accuracy: 0.1437 - val_loss: -23.4457 - val_accuracy: 0.1375\n",
            "Epoch 200/250\n",
            "10/10 [==============================] - 0s 10ms/step - loss: -22.2067 - accuracy: 0.1437 - val_loss: -23.4457 - val_accuracy: 0.1375\n",
            "Epoch 201/250\n",
            "10/10 [==============================] - 0s 8ms/step - loss: -22.2067 - accuracy: 0.1437 - val_loss: -23.4457 - val_accuracy: 0.1375\n",
            "Epoch 202/250\n",
            "10/10 [==============================] - 0s 8ms/step - loss: -22.2067 - accuracy: 0.1437 - val_loss: -23.4457 - val_accuracy: 0.1375\n",
            "Epoch 203/250\n",
            "10/10 [==============================] - 0s 8ms/step - loss: -22.2067 - accuracy: 0.1437 - val_loss: -23.4457 - val_accuracy: 0.1375\n",
            "Epoch 204/250\n",
            "10/10 [==============================] - 0s 8ms/step - loss: -22.2067 - accuracy: 0.1437 - val_loss: -23.4457 - val_accuracy: 0.1375\n",
            "Epoch 205/250\n",
            "10/10 [==============================] - 0s 9ms/step - loss: -22.2067 - accuracy: 0.1437 - val_loss: -23.4457 - val_accuracy: 0.1375\n",
            "Epoch 206/250\n",
            "10/10 [==============================] - 0s 9ms/step - loss: -22.2067 - accuracy: 0.1437 - val_loss: -23.4457 - val_accuracy: 0.1375\n",
            "Epoch 207/250\n",
            "10/10 [==============================] - 0s 9ms/step - loss: -22.2067 - accuracy: 0.1437 - val_loss: -23.4457 - val_accuracy: 0.1375\n",
            "Epoch 208/250\n",
            "10/10 [==============================] - 0s 9ms/step - loss: -22.2067 - accuracy: 0.1437 - val_loss: -23.4457 - val_accuracy: 0.1375\n",
            "Epoch 209/250\n",
            "10/10 [==============================] - 0s 10ms/step - loss: -22.2067 - accuracy: 0.1437 - val_loss: -23.4457 - val_accuracy: 0.1375\n",
            "Epoch 210/250\n",
            "10/10 [==============================] - 0s 9ms/step - loss: -22.2067 - accuracy: 0.1437 - val_loss: -23.4457 - val_accuracy: 0.1375\n",
            "Epoch 211/250\n",
            "10/10 [==============================] - 0s 10ms/step - loss: -22.2067 - accuracy: 0.1437 - val_loss: -23.4457 - val_accuracy: 0.1375\n",
            "Epoch 212/250\n",
            "10/10 [==============================] - 0s 9ms/step - loss: -22.2067 - accuracy: 0.1437 - val_loss: -23.4457 - val_accuracy: 0.1375\n",
            "Epoch 213/250\n",
            "10/10 [==============================] - 0s 10ms/step - loss: -22.2067 - accuracy: 0.1437 - val_loss: -23.4457 - val_accuracy: 0.1375\n",
            "Epoch 214/250\n",
            "10/10 [==============================] - 0s 8ms/step - loss: -22.2067 - accuracy: 0.1437 - val_loss: -23.4457 - val_accuracy: 0.1375\n",
            "Epoch 215/250\n",
            "10/10 [==============================] - 0s 9ms/step - loss: -22.2067 - accuracy: 0.1437 - val_loss: -23.4457 - val_accuracy: 0.1375\n",
            "Epoch 216/250\n",
            "10/10 [==============================] - 0s 8ms/step - loss: -22.2067 - accuracy: 0.1437 - val_loss: -23.4457 - val_accuracy: 0.1375\n",
            "Epoch 217/250\n",
            "10/10 [==============================] - 0s 10ms/step - loss: -22.2067 - accuracy: 0.1437 - val_loss: -23.4457 - val_accuracy: 0.1375\n",
            "Epoch 218/250\n",
            "10/10 [==============================] - 0s 8ms/step - loss: -22.2067 - accuracy: 0.1437 - val_loss: -23.4457 - val_accuracy: 0.1375\n",
            "Epoch 219/250\n",
            "10/10 [==============================] - 0s 9ms/step - loss: -22.2067 - accuracy: 0.1437 - val_loss: -23.4457 - val_accuracy: 0.1375\n",
            "Epoch 220/250\n",
            "10/10 [==============================] - 0s 11ms/step - loss: -22.2067 - accuracy: 0.1437 - val_loss: -23.4457 - val_accuracy: 0.1375\n",
            "Epoch 221/250\n",
            "10/10 [==============================] - 0s 9ms/step - loss: -22.2067 - accuracy: 0.1437 - val_loss: -23.4457 - val_accuracy: 0.1375\n",
            "Epoch 222/250\n",
            "10/10 [==============================] - 0s 9ms/step - loss: -22.2067 - accuracy: 0.1437 - val_loss: -23.4457 - val_accuracy: 0.1375\n",
            "Epoch 223/250\n",
            "10/10 [==============================] - 0s 10ms/step - loss: -22.2067 - accuracy: 0.1437 - val_loss: -23.4457 - val_accuracy: 0.1375\n",
            "Epoch 224/250\n",
            "10/10 [==============================] - 0s 7ms/step - loss: -22.2067 - accuracy: 0.1437 - val_loss: -23.4457 - val_accuracy: 0.1375\n",
            "Epoch 225/250\n",
            "10/10 [==============================] - 0s 10ms/step - loss: -22.2067 - accuracy: 0.1437 - val_loss: -23.4457 - val_accuracy: 0.1375\n",
            "Epoch 226/250\n",
            "10/10 [==============================] - 0s 10ms/step - loss: -22.2067 - accuracy: 0.1437 - val_loss: -23.4457 - val_accuracy: 0.1375\n",
            "Epoch 227/250\n",
            "10/10 [==============================] - 0s 8ms/step - loss: -22.2067 - accuracy: 0.1437 - val_loss: -23.4457 - val_accuracy: 0.1375\n",
            "Epoch 228/250\n",
            "10/10 [==============================] - 0s 10ms/step - loss: -22.2067 - accuracy: 0.1437 - val_loss: -23.4457 - val_accuracy: 0.1375\n",
            "Epoch 229/250\n",
            "10/10 [==============================] - 0s 7ms/step - loss: -22.2067 - accuracy: 0.1437 - val_loss: -23.4457 - val_accuracy: 0.1375\n",
            "Epoch 230/250\n",
            "10/10 [==============================] - 0s 8ms/step - loss: -22.2067 - accuracy: 0.1437 - val_loss: -23.4457 - val_accuracy: 0.1375\n",
            "Epoch 231/250\n",
            "10/10 [==============================] - 0s 9ms/step - loss: -22.2067 - accuracy: 0.1437 - val_loss: -23.4457 - val_accuracy: 0.1375\n",
            "Epoch 232/250\n",
            "10/10 [==============================] - 0s 8ms/step - loss: -22.2067 - accuracy: 0.1437 - val_loss: -23.4457 - val_accuracy: 0.1375\n",
            "Epoch 233/250\n",
            "10/10 [==============================] - 0s 8ms/step - loss: -22.2067 - accuracy: 0.1437 - val_loss: -23.4457 - val_accuracy: 0.1375\n",
            "Epoch 234/250\n",
            "10/10 [==============================] - 0s 10ms/step - loss: -22.2067 - accuracy: 0.1437 - val_loss: -23.4457 - val_accuracy: 0.1375\n",
            "Epoch 235/250\n",
            "10/10 [==============================] - 0s 8ms/step - loss: -22.2067 - accuracy: 0.1437 - val_loss: -23.4457 - val_accuracy: 0.1375\n",
            "Epoch 236/250\n",
            "10/10 [==============================] - 0s 10ms/step - loss: -22.2067 - accuracy: 0.1437 - val_loss: -23.4457 - val_accuracy: 0.1375\n",
            "Epoch 237/250\n",
            "10/10 [==============================] - 0s 8ms/step - loss: -22.2067 - accuracy: 0.1437 - val_loss: -23.4457 - val_accuracy: 0.1375\n",
            "Epoch 238/250\n",
            "10/10 [==============================] - 0s 9ms/step - loss: -22.2067 - accuracy: 0.1437 - val_loss: -23.4457 - val_accuracy: 0.1375\n",
            "Epoch 239/250\n",
            "10/10 [==============================] - 0s 7ms/step - loss: -22.2067 - accuracy: 0.1437 - val_loss: -23.4457 - val_accuracy: 0.1375\n",
            "Epoch 240/250\n",
            "10/10 [==============================] - 0s 7ms/step - loss: -22.2067 - accuracy: 0.1437 - val_loss: -23.4457 - val_accuracy: 0.1375\n",
            "Epoch 241/250\n",
            "10/10 [==============================] - 0s 8ms/step - loss: -22.2067 - accuracy: 0.1437 - val_loss: -23.4457 - val_accuracy: 0.1375\n",
            "Epoch 242/250\n",
            "10/10 [==============================] - 0s 11ms/step - loss: -22.2067 - accuracy: 0.1437 - val_loss: -23.4457 - val_accuracy: 0.1375\n",
            "Epoch 243/250\n",
            "10/10 [==============================] - 0s 13ms/step - loss: -22.2067 - accuracy: 0.1437 - val_loss: -23.4457 - val_accuracy: 0.1375\n",
            "Epoch 244/250\n",
            "10/10 [==============================] - 0s 13ms/step - loss: -22.2067 - accuracy: 0.1437 - val_loss: -23.4457 - val_accuracy: 0.1375\n",
            "Epoch 245/250\n",
            "10/10 [==============================] - 0s 12ms/step - loss: -22.2067 - accuracy: 0.1437 - val_loss: -23.4457 - val_accuracy: 0.1375\n",
            "Epoch 246/250\n",
            "10/10 [==============================] - 0s 14ms/step - loss: -22.2067 - accuracy: 0.1437 - val_loss: -23.4457 - val_accuracy: 0.1375\n",
            "Epoch 247/250\n",
            "10/10 [==============================] - 0s 13ms/step - loss: -22.2067 - accuracy: 0.1437 - val_loss: -23.4457 - val_accuracy: 0.1375\n",
            "Epoch 248/250\n",
            "10/10 [==============================] - 0s 12ms/step - loss: -22.2067 - accuracy: 0.1437 - val_loss: -23.4457 - val_accuracy: 0.1375\n",
            "Epoch 249/250\n",
            "10/10 [==============================] - 0s 12ms/step - loss: -22.2067 - accuracy: 0.1437 - val_loss: -23.4457 - val_accuracy: 0.1375\n",
            "Epoch 250/250\n",
            "10/10 [==============================] - 0s 12ms/step - loss: -22.2067 - accuracy: 0.1437 - val_loss: -23.4457 - val_accuracy: 0.1375\n"
          ]
        },
        {
          "data": {
            "text/plain": [
              "<keras.src.callbacks.History at 0x7a15641f1180>"
            ]
          },
          "execution_count": 12,
          "metadata": {},
          "output_type": "execute_result"
        }
      ],
      "source": [
        "model.fit(\n",
        "    x = [train_ratings[:,0],train_ratings[:,1]],\n",
        "    y = train_ratings[:,2],\n",
        "    batch_size=32,\n",
        "    epochs=250,\n",
        "    validation_split=0.2\n",
        ")"
      ]
    },
    {
      "cell_type": "code",
      "execution_count": 13,
      "metadata": {
        "colab": {
          "base_uri": "https://localhost:8080/"
        },
        "id": "-vgNRfju_J8Z",
        "outputId": "e8a968ec-0ce9-414f-b63e-99079bcd34d2"
      },
      "outputs": [
        {
          "name": "stdout",
          "output_type": "stream",
          "text": [
            "13/13 [==============================] - 0s 2ms/step - loss: -22.4545 - accuracy: 0.1425\n",
            "-22.45450210571289\n",
            "14.249999821186066\n"
          ]
        }
      ],
      "source": [
        "loss,accuracy = model.evaluate(x = [train_ratings[:,0],train_ratings[:,1]],y = train_ratings[:,2])\n",
        "print(loss)\n",
        "print(accuracy*100)"
      ]
    },
    {
      "cell_type": "code",
      "execution_count": 20,
      "metadata": {
        "id": "qpdAEES6_Nr0"
      },
      "outputs": [],
      "source": [
        "def recommedor(user_id):\n",
        "  user_ids = np.full(num_items,user_id)\n",
        "  item_ids = np.arange(num_items)\n",
        "  ratings = model.predict([user_ids,item_ids])\n",
        "  # print(ratings)\n",
        "  top_five = np.argpartition(ratings.flatten(), 10)[:10]\n",
        "  # print(np.argpartition(ratings.flatten(), 5))\n",
        "  return top_five"
      ]
    },
    {
      "cell_type": "code",
      "execution_count": 21,
      "metadata": {
        "colab": {
          "base_uri": "https://localhost:8080/"
        },
        "id": "5gNt_5n21CuY",
        "outputId": "06756682-5e2f-4415-b12d-0b1b3fbfe8da"
      },
      "outputs": [
        {
          "name": "stdout",
          "output_type": "stream",
          "text": [
            "Enter the User Id : 123\n",
            "5/5 [==============================] - 0s 3ms/step\n",
            "[142  15  40  47  71  43  16  29  99 116]\n"
          ]
        }
      ],
      "source": [
        "user_id = int(input(\"Enter the User Id : \"))\n",
        "result = recommedor(user_id)\n",
        "print(result)\n",
        "\n",
        "# [100  98 101 103  99]"
      ]
    },
    {
      "cell_type": "code",
      "execution_count": 16,
      "metadata": {
        "id": "4azs9aiToiuF"
      },
      "outputs": [],
      "source": [
        "# import pandas as pd\n",
        "\n",
        "# song_df = pd.read_excel(\"/content/song_list.xlsx\")\n",
        "\n",
        "# song_df.head()"
      ]
    },
    {
      "cell_type": "code",
      "execution_count": 22,
      "metadata": {
        "colab": {
          "base_uri": "https://localhost:8080/"
        },
        "id": "lly6rTPG1foP",
        "outputId": "b7a4a14a-7d4a-4f63-9531-7c4265683bc7"
      },
      "outputs": [
        {
          "name": "stdout",
          "output_type": "stream",
          "text": [
            "Enter the User Id144\n",
            "5/5 [==============================] - 0s 3ms/step\n",
            "[116  15  29  43  47  71  99 114 142  40]\n"
          ]
        }
      ],
      "source": [
        "user_id = int(input(\"Enter the User Id\"))\n",
        "results = recommedor(user_id)\n",
        "\n",
        "print(results)\n",
        "\n",
        "# for result in results:\n",
        "#   songs = song_df.iloc[result].values[0]\n",
        "#   print(songs)\n",
        "\n",
        "# # [145  36  85 106 111]"
      ]
    },
    {
      "cell_type": "code",
      "execution_count": 23,
      "metadata": {
        "colab": {
          "base_uri": "https://localhost:8080/"
        },
        "id": "mEV-xD1knUQ3",
        "outputId": "8ed13e47-860e-459a-9853-fe01c229a8f1"
      },
      "outputs": [
        {
          "name": "stdout",
          "output_type": "stream",
          "text": [
            "Model saved successfully as song_recommender.pkl\n"
          ]
        }
      ],
      "source": [
        "import pickle\n",
        "\n",
        "model_file_path = 'song_recommender.pkl'\n",
        "\n",
        "with open(model_file_path, 'wb') as file:\n",
        "    pickle.dump(model, file)\n",
        "\n",
        "print(\"Model saved successfully as\", model_file_path)"
      ]
    },
    {
      "cell_type": "code",
      "execution_count": null,
      "metadata": {
        "id": "ga2Omo1gx5ka"
      },
      "outputs": [],
      "source": []
    }
  ],
  "metadata": {
    "accelerator": "TPU",
    "colab": {
      "provenance": []
    },
    "kernelspec": {
      "display_name": "Python 3.10.8 64-bit",
      "language": "python",
      "name": "python3"
    },
    "language_info": {
      "name": "python",
      "version": "3.10.8"
    },
    "vscode": {
      "interpreter": {
        "hash": "97cc609b13305c559618ec78a438abc56230b9381f827f22d070313b9a1f3777"
      }
    }
  },
  "nbformat": 4,
  "nbformat_minor": 0
}
